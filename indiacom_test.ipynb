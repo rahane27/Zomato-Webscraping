{
 "cells": [
  {
   "cell_type": "code",
   "execution_count": 1,
   "metadata": {},
   "outputs": [
    {
     "data": {
      "text/plain": [
       "'https://www.zomato.com/hyderabad'"
      ]
     },
     "execution_count": 1,
     "metadata": {},
     "output_type": "execute_result"
    }
   ],
   "source": [
    "import selenium\n",
    "from selenium import webdriver\n",
    "from selenium.webdriver.common.keys import Keys\n",
    "from selenium.webdriver.common.action_chains import ActionChains\n",
    "driver=webdriver.Firefox()\n",
    "driver.get(\"https://www.zomato.com/\")\n",
    "driver.current_url"
   ]
  },
  {
   "cell_type": "code",
   "execution_count": 2,
   "metadata": {},
   "outputs": [],
   "source": [
    "#for Pune \n",
    "\n",
    "click=driver.find_element_by_id(\"location_input_sp\")\n",
    "click.click()"
   ]
  },
  {
   "cell_type": "code",
   "execution_count": 3,
   "metadata": {},
   "outputs": [],
   "source": [
    "pune=driver.find_element_by_id(\"location_input\")\n",
    "pune.send_keys(\"Pune\")\n",
    "pune.click()"
   ]
  },
  {
   "cell_type": "code",
   "execution_count": 4,
   "metadata": {},
   "outputs": [
    {
     "data": {
      "text/plain": [
       "'https://www.zomato.com/hyderabad'"
      ]
     },
     "execution_count": 4,
     "metadata": {},
     "output_type": "execute_result"
    }
   ],
   "source": [
    "#Menuclick\n",
    "\n",
    "menuclick=driver.find_element_by_xpath(\"/html/body/div[3]/div/div[3]/div[2]/div/div/div[1]/div/div[2]/ul[3]/div[1]\")\n",
    "menuclick.click()\n",
    "driver.current_url"
   ]
  },
  {
   "cell_type": "code",
   "execution_count": 5,
   "metadata": {},
   "outputs": [
    {
     "data": {
      "text/plain": [
       "'Restaurants - Pune Restaurants, Restaurants in Pune | Zomato India'"
      ]
     },
     "execution_count": 5,
     "metadata": {},
     "output_type": "execute_result"
    }
   ],
   "source": [
    "driver.title"
   ]
  },
  {
   "cell_type": "code",
   "execution_count": 6,
   "metadata": {},
   "outputs": [],
   "source": [
    "#for typing McDonald's and serach\n",
    "Md=driver.find_element_by_id(\"keywords_input\")\n",
    "Md.send_keys(\"McDonald's\")\n",
    "Md.click()"
   ]
  },
  {
   "cell_type": "code",
   "execution_count": 7,
   "metadata": {},
   "outputs": [
    {
     "data": {
      "text/plain": [
       "'https://www.zomato.com/pune/restaurants/mcdonalds'"
      ]
     },
     "execution_count": 7,
     "metadata": {},
     "output_type": "execute_result"
    }
   ],
   "source": [
    "#search button configuration\n",
    "searchbutton=driver.find_element_by_id(\"search_button\")\n",
    "searchbutton.click()\n",
    "driver.current_url"
   ]
  },
  {
   "cell_type": "code",
   "execution_count": 8,
   "metadata": {},
   "outputs": [
    {
     "data": {
      "text/plain": [
       "\"McDonald's, Pune - Zomato\""
      ]
     },
     "execution_count": 8,
     "metadata": {},
     "output_type": "execute_result"
    }
   ],
   "source": [
    "driver.title"
   ]
  },
  {
   "cell_type": "code",
   "execution_count": 9,
   "metadata": {},
   "outputs": [
    {
     "data": {
      "text/plain": [
       "'https://www.zomato.com/pune/restaurants/mcdonalds'"
      ]
     },
     "execution_count": 9,
     "metadata": {},
     "output_type": "execute_result"
    }
   ],
   "source": [
    "# access all link and stored in list for current url\n",
    "\n",
    "import bs4\n",
    "import re\n",
    "import requests\n",
    "from bs4 import BeautifulSoup as soup\n",
    "from urllib.request import urlopen as ureq\n",
    "url=driver.current_url\n",
    "url"
   ]
  },
  {
   "cell_type": "code",
   "execution_count": 10,
   "metadata": {},
   "outputs": [],
   "source": [
    "#Used headers/agent because the request was timed out and asking for an agent. \n",
    "#Using following code we can fake the agent.\n",
    "headers = {'User-Agent': 'Mozilla/5.0 (Macintosh; Intel Mac OS X 10_11_6) AppleWebKit/537.36 (KHTML, like Gecko) Chrome/61.0.3163.100 Safari/537.36'}\n",
    "\n",
    "response = requests.get(url,headers=headers)"
   ]
  },
  {
   "cell_type": "code",
   "execution_count": 11,
   "metadata": {},
   "outputs": [],
   "source": [
    "page_html=response.content"
   ]
  },
  {
   "cell_type": "code",
   "execution_count": 12,
   "metadata": {},
   "outputs": [],
   "source": [
    "page_soup=soup(page_html,\"html.parser\")"
   ]
  },
  {
   "cell_type": "code",
   "execution_count": 13,
   "metadata": {},
   "outputs": [
    {
     "data": {
      "text/plain": [
       "\"McDonald's, Pune - Zomato\""
      ]
     },
     "execution_count": 13,
     "metadata": {},
     "output_type": "execute_result"
    }
   ],
   "source": [
    "page_soup.title.string"
   ]
  },
  {
   "cell_type": "code",
   "execution_count": 14,
   "metadata": {},
   "outputs": [],
   "source": [
    "links=page_soup.findAll(\"a\",{\"data-result-type\":\"ResCard_Name\"})"
   ]
  },
  {
   "cell_type": "code",
   "execution_count": 15,
   "metadata": {},
   "outputs": [
    {
     "data": {
      "text/plain": [
       "15"
      ]
     },
     "execution_count": 15,
     "metadata": {},
     "output_type": "execute_result"
    }
   ],
   "source": [
    "len(links)"
   ]
  },
  {
   "cell_type": "code",
   "execution_count": 16,
   "metadata": {},
   "outputs": [],
   "source": [
    "mylist=[]\n",
    "for link in links:\n",
    "    mylist.append(link.get('href'))"
   ]
  },
  {
   "cell_type": "code",
   "execution_count": 17,
   "metadata": {},
   "outputs": [
    {
     "data": {
      "text/plain": [
       "['https://www.zomato.com/pune/mcdonalds-camp-area',\n",
       " 'https://www.zomato.com/pune/mcdonalds-baner',\n",
       " 'https://www.zomato.com/pune/mcdonalds-1-kalyani-nagar',\n",
       " 'https://www.zomato.com/pune/mcdonalds-chinchwad',\n",
       " 'https://www.zomato.com/pune/mcdonalds-hinjawadi',\n",
       " 'https://www.zomato.com/pune/mcdonalds-satara-road',\n",
       " 'https://www.zomato.com/pune/mcdonalds-pimple-saudagar',\n",
       " 'https://www.zomato.com/pune/mcdonalds-aundh',\n",
       " 'https://www.zomato.com/pune/mcdonalds-1-hadapsar',\n",
       " 'https://www.zomato.com/pune/mcdonalds-dange-chowk',\n",
       " 'https://www.zomato.com/pune/mcdonalds-jm-road',\n",
       " 'https://www.zomato.com/pune/mcdonalds-magarpatta',\n",
       " 'https://www.zomato.com/pune/mcdonalds-shivaji-nagar',\n",
       " 'https://www.zomato.com/pune/mcdonalds-viman-nagar',\n",
       " 'https://www.zomato.com/pune/mcdonalds-dhankawadi']"
      ]
     },
     "execution_count": 17,
     "metadata": {},
     "output_type": "execute_result"
    }
   ],
   "source": [
    "mylist  #here I got All  required links for current url page"
   ]
  },
  {
   "cell_type": "code",
   "execution_count": 18,
   "metadata": {},
   "outputs": [],
   "source": [
    "#geting all details of restaurant\n",
    "\n",
    "import bs4\n",
    "import re\n",
    "import requests\n",
    "from bs4 import BeautifulSoup as soup\n",
    "\n"
   ]
  },
  {
   "cell_type": "code",
   "execution_count": 19,
   "metadata": {},
   "outputs": [
    {
     "name": "stdout",
     "output_type": "stream",
     "text": [
      "link =  https://www.zomato.com/pune/mcdonalds-camp-area\n",
      "Page Title =  McDonald's, Moledina road, Camp, Pune - Zomato\n",
      "Name =  McDonald's\n",
      "Restaurant rating =  2.9/5\n",
      "Address =  34, SGS Magnum Mall, Moledina Road, Camp Area, Pune\n",
      "Phone Number =   +912266000666\n",
      "First Reviewer Name =  Yogita Rane - Lifestyle Blogger\n",
      "**********************************************************************\n",
      "link =  https://www.zomato.com/pune/mcdonalds-baner\n",
      "Page Title =  McDonald's, Baner, Pune - Zomato\n",
      "Name =  McDonald's\n",
      "Restaurant rating =  3.8/5\n",
      "Address =  Shop 22, Balewadi High Street, Cummins India Office Complex, Baner, Pune\n",
      "Phone Number =   +912266000666\n",
      "First Reviewer Name =  Vaibhav Gilbile\n",
      "**********************************************************************\n",
      "link =  https://www.zomato.com/pune/mcdonalds-1-kalyani-nagar\n",
      "Page Title =  McDonald's, Mariplex Mall, Kalyani Nagar, Pune - Zomato\n",
      "Name =  McDonald's\n",
      "Restaurant rating =  4.0/5\n",
      "Address =  Ground Floor, Mariplex Mall, Kalyani Nagar, Pune\n",
      "Phone Number =   +912266000666\n",
      "First Reviewer Name =  Subita Landge\n",
      "**********************************************************************\n",
      "link =  https://www.zomato.com/pune/mcdonalds-chinchwad\n",
      "Page Title =  McDonald's, Chinchwad, Pune - Zomato\n",
      "Name =  McDonald's\n",
      "Restaurant rating =  3.5/5\n",
      "Address =  Premier Plaza, Old Mumbai Pune Highway, Chinchwad, Pune\n",
      "Phone Number =   +912266000666\n",
      "First Reviewer Name =  Priyanka Jain\n",
      "**********************************************************************\n",
      "link =  https://www.zomato.com/pune/mcdonalds-hinjawadi\n",
      "Page Title =  McDonald's, Hinjawadi, Pune - Zomato\n",
      "Name =  McDonald's\n",
      "Restaurant rating =  2.8/5\n",
      "Address =  HPCL, KPIT Cummins, Near Krishna Petrol Pump, Phase 2 Road, Hinjawadi, Pune\n",
      "Phone Number =   +912266000666\n",
      "First Reviewer Name =  Archi Choudhary\n",
      "**********************************************************************\n",
      "link =  https://www.zomato.com/pune/mcdonalds-satara-road\n",
      "Page Title =  McDonald's, Satara Road, Pune - Zomato\n",
      "Name =  McDonald's\n",
      "Restaurant rating =  3.6/5\n",
      "Address =  Near City Pride Multiplex,  692 A2A Saluja Chambers, Satara Road, Pune\n",
      "Phone Number =   +912266000666\n",
      "First Reviewer Name =  Foodie Hunk\n",
      "**********************************************************************\n",
      "link =  https://www.zomato.com/pune/mcdonalds-pimple-saudagar\n",
      "Page Title =  McDonald's, Pimple Saudagar, Pune - Zomato\n",
      "Name =  McDonald's\n",
      "Restaurant rating =  3.6/5\n",
      "Address =  Rainbow Plaza, Near Shivar Garden, Pimple Saudagar, Pune\n",
      "Phone Number =   +912266000666\n",
      "First Reviewer Name =  Sharanye Koushik\n",
      "**********************************************************************\n",
      "link =  https://www.zomato.com/pune/mcdonalds-aundh\n",
      "Page Title =  McDonald's, Aundh, Pune - Zomato\n",
      "Name =  McDonald's\n",
      "Restaurant rating =  2.9/5\n",
      "Address =  8 -14 Stellar Enclave, DP Road, Aundh, Pune\n",
      "Phone Number =   +912266000666\n",
      "First Reviewer Name =  Neha Nemade\n",
      "**********************************************************************\n",
      "link =  https://www.zomato.com/pune/mcdonalds-1-hadapsar\n",
      "Page Title =  Mcdonald's, Hadapsar, Pune - Zomato\n",
      "Name =  Mcdonald's\n",
      "Restaurant rating =  3.8/5\n",
      "Address =  1st Floor, West Black, Food Court, Amanora Town Centre, Hadapsar, Pune\n",
      "Phone Number =   +912066000666\n",
      "First Reviewer Name =  Chaitali Wayakule\n",
      "**********************************************************************\n",
      "link =  https://www.zomato.com/pune/mcdonalds-dange-chowk\n",
      "Page Title =  McDonald's, Dange Chowk, Pune - Zomato\n",
      "Name =  McDonald's\n",
      "Restaurant rating =  3.0/5\n",
      "Address =  Survey 15/4, Near Santosh Nagar, Thergaon, Dange Chowk, Pune\n",
      "Phone Number =   +912266000666\n",
      "First Reviewer Name =  Silky Rungta Agrawal\n",
      "**********************************************************************\n",
      "link =  https://www.zomato.com/pune/mcdonalds-jm-road\n",
      "Page Title =  McDonald's, JM Road, Pune - Zomato\n",
      "Name =  McDonald's\n",
      "Restaurant rating =  3.4/5\n",
      "Address =  Ground Floor, Suyog Plaza, JM Road, Pune\n",
      "Phone Number =   +912266000666\n",
      "First Reviewer Name =  Omkar's Food Diaries\n",
      "**********************************************************************\n",
      "link =  https://www.zomato.com/pune/mcdonalds-magarpatta\n",
      "Page Title =  McDonald's, Seasons Mall, Magarpatta, Pune - Zomato\n",
      "Name =  McDonald's\n",
      "Restaurant rating =  3.8/5\n",
      "Address =  Seasons Mall, Magarpatta City, Magarpatta, Pune\n",
      "Phone Number =   +912266000666\n",
      "First Reviewer Name =  Girish Agrawal\n",
      "**********************************************************************\n",
      "link =  https://www.zomato.com/pune/mcdonalds-shivaji-nagar\n",
      "Page Title =  McDonald's, Shivaji Nagar, Pune - Zomato\n",
      "Name =  McDonald's\n",
      "Restaurant rating =  3.6/5\n",
      "Address =  Unit 201, Kakade Center Port, CTS 2687B, Bhamburda, Shivaji Nagar, Pune\n",
      "Phone Number =   +912266000666\n",
      "First Reviewer Name =  Varun J\n",
      "**********************************************************************\n",
      "link =  https://www.zomato.com/pune/mcdonalds-viman-nagar\n",
      "Page Title =  McDonald's, Viman Nagar, Pune - Zomato\n",
      "Name =  McDonald's\n",
      "Restaurant rating =  3.8/5\n",
      "Address =  G 7, Phoenix Market City, Nagar Road, Viman Nagar, Pune\n",
      "Phone Number =   +912066000666\n",
      "First Reviewer Name =  Abhilasha Adhikary\n",
      "**********************************************************************\n",
      "link =  https://www.zomato.com/pune/mcdonalds-dhankawadi\n",
      "Page Title =  McDonald's, Dhankawadi, Pune - Zomato\n",
      "Name =  McDonald's\n",
      "Restaurant rating =  3.4/5\n",
      "Address =  Survey 32/2, Gurukrupa Hall, Ambegaon Budruk, Near Dmart, Dhankawadi, Pune\n",
      "Phone Number =   +912266000666\n",
      "First Reviewer Name =  Shubham Mahajan\n",
      "**********************************************************************\n"
     ]
    }
   ],
   "source": [
    " for i in mylist:\n",
    "        headers = {'User-Agent': 'Mozilla/5.0 (Macintosh; Intel Mac OS X 10_11_6) AppleWebKit/537.36 (KHTML, like Gecko) Chrome/61.0.3163.100 Safari/537.36'}\n",
    "        response = requests.get(i,headers=headers)\n",
    "        \n",
    "        page_html=response.content\n",
    "        page_soup=soup(page_html,\"html.parser\")\n",
    "        \n",
    "        print('link = ' ,i)\n",
    "        \n",
    "        print(\"Page Title = \",page_soup.title.string)\n",
    "        \n",
    "        containers=page_soup.findAll(\"div\",{\"class\":\"res-header-overlay brbot\"})\n",
    "        name=containers[0]\n",
    "        print(\"Name = \",name.a.text.strip())\n",
    "        \n",
    "        containers1=page_soup.findAll(\"div\",{\"class\":\"res-rating pos-relative clearfix mb5\"})\n",
    "        print(\"Restaurant rating = \", containers1[0].text.strip())\n",
    "        \n",
    "        add=page_soup.findAll(\"div\",{\"class\":\"borderless res-main-address\"})\n",
    "        print(\"Address = \",add[0].text.strip())\n",
    "        \n",
    "        containers2=page_soup.findAll(\"div\",{\"class\":\"phone\"})\n",
    "        print(\"Phone Number = \",containers2[0].text.strip().replace(\"Phone number\\n\\n\",\" \"))\n",
    "        \n",
    "        review=page_soup.findAll(\"div\",{\"class\":\"header nowrap ui left\"})\n",
    "        print(\"First Reviewer Name = \",review[0].text.strip())\n",
    "        \n",
    "        print('**********************************************************************')\n",
    "\n",
    "       \n",
    "        "
   ]
  },
  {
   "cell_type": "code",
   "execution_count": 20,
   "metadata": {},
   "outputs": [
    {
     "data": {
      "text/plain": [
       "[{'link': 'https://www.zomato.com/pune/mcdonalds-camp-area',\n",
       "  'page title': \"McDonald's, Moledina road, Camp, Pune - Zomato\",\n",
       "  'Name': \"McDonald's\",\n",
       "  'Restaurant rating': '2.9/5',\n",
       "  'rest_address': '34, SGS Magnum Mall, Moledina Road, Camp Area, Pune',\n",
       "  'Contact': ' +912266000666',\n",
       "  'Firsr Reviewer Name': 'Yogita Rane - Lifestyle Blogger'},\n",
       " {'link': 'https://www.zomato.com/pune/mcdonalds-baner',\n",
       "  'page title': \"McDonald's, Baner, Pune - Zomato\",\n",
       "  'Name': \"McDonald's\",\n",
       "  'Restaurant rating': '3.8/5',\n",
       "  'rest_address': 'Shop 22, Balewadi High Street, Cummins India Office Complex, Baner, Pune',\n",
       "  'Contact': ' +912266000666',\n",
       "  'Firsr Reviewer Name': 'Vaibhav Gilbile'},\n",
       " {'link': 'https://www.zomato.com/pune/mcdonalds-1-kalyani-nagar',\n",
       "  'page title': \"McDonald's, Mariplex Mall, Kalyani Nagar, Pune - Zomato\",\n",
       "  'Name': \"McDonald's\",\n",
       "  'Restaurant rating': '4.0/5',\n",
       "  'rest_address': 'Ground Floor, Mariplex Mall, Kalyani Nagar, Pune',\n",
       "  'Contact': ' +912266000666',\n",
       "  'Firsr Reviewer Name': 'Subita Landge'},\n",
       " {'link': 'https://www.zomato.com/pune/mcdonalds-chinchwad',\n",
       "  'page title': \"McDonald's, Chinchwad, Pune - Zomato\",\n",
       "  'Name': \"McDonald's\",\n",
       "  'Restaurant rating': '3.5/5',\n",
       "  'rest_address': 'Premier Plaza, Old Mumbai Pune Highway, Chinchwad, Pune',\n",
       "  'Contact': ' +912266000666',\n",
       "  'Firsr Reviewer Name': 'Priyanka Jain'},\n",
       " {'link': 'https://www.zomato.com/pune/mcdonalds-hinjawadi',\n",
       "  'page title': \"McDonald's, Hinjawadi, Pune - Zomato\",\n",
       "  'Name': \"McDonald's\",\n",
       "  'Restaurant rating': '2.8/5',\n",
       "  'rest_address': 'HPCL, KPIT Cummins, Near Krishna Petrol Pump, Phase 2 Road, Hinjawadi, Pune',\n",
       "  'Contact': ' +912266000666',\n",
       "  'Firsr Reviewer Name': 'Archi Choudhary'},\n",
       " {'link': 'https://www.zomato.com/pune/mcdonalds-satara-road',\n",
       "  'page title': \"McDonald's, Satara Road, Pune - Zomato\",\n",
       "  'Name': \"McDonald's\",\n",
       "  'Restaurant rating': '3.6/5',\n",
       "  'rest_address': 'Near City Pride Multiplex,  692 A2A Saluja Chambers, Satara Road, Pune',\n",
       "  'Contact': ' +912266000666',\n",
       "  'Firsr Reviewer Name': 'Foodie Hunk'},\n",
       " {'link': 'https://www.zomato.com/pune/mcdonalds-pimple-saudagar',\n",
       "  'page title': \"McDonald's, Pimple Saudagar, Pune - Zomato\",\n",
       "  'Name': \"McDonald's\",\n",
       "  'Restaurant rating': '3.6/5',\n",
       "  'rest_address': 'Rainbow Plaza, Near Shivar Garden, Pimple Saudagar, Pune',\n",
       "  'Contact': ' +912266000666',\n",
       "  'Firsr Reviewer Name': 'Sharanye Koushik'},\n",
       " {'link': 'https://www.zomato.com/pune/mcdonalds-aundh',\n",
       "  'page title': \"McDonald's, Aundh, Pune - Zomato\",\n",
       "  'Name': \"McDonald's\",\n",
       "  'Restaurant rating': '2.9/5',\n",
       "  'rest_address': '8 -14 Stellar Enclave, DP Road, Aundh, Pune',\n",
       "  'Contact': ' +912266000666',\n",
       "  'Firsr Reviewer Name': 'Neha Nemade'},\n",
       " {'link': 'https://www.zomato.com/pune/mcdonalds-1-hadapsar',\n",
       "  'page title': \"Mcdonald's, Hadapsar, Pune - Zomato\",\n",
       "  'Name': \"Mcdonald's\",\n",
       "  'Restaurant rating': '3.8/5',\n",
       "  'rest_address': '1st Floor, West Black, Food Court, Amanora Town Centre, Hadapsar, Pune',\n",
       "  'Contact': ' +912066000666',\n",
       "  'Firsr Reviewer Name': 'Chaitali Wayakule'},\n",
       " {'link': 'https://www.zomato.com/pune/mcdonalds-dange-chowk',\n",
       "  'page title': \"McDonald's, Dange Chowk, Pune - Zomato\",\n",
       "  'Name': \"McDonald's\",\n",
       "  'Restaurant rating': '3.0/5',\n",
       "  'rest_address': 'Survey 15/4, Near Santosh Nagar, Thergaon, Dange Chowk, Pune',\n",
       "  'Contact': ' +912266000666',\n",
       "  'Firsr Reviewer Name': 'Silky Rungta Agrawal'},\n",
       " {'link': 'https://www.zomato.com/pune/mcdonalds-jm-road',\n",
       "  'page title': \"McDonald's, JM Road, Pune - Zomato\",\n",
       "  'Name': \"McDonald's\",\n",
       "  'Restaurant rating': '3.4/5',\n",
       "  'rest_address': 'Ground Floor, Suyog Plaza, JM Road, Pune',\n",
       "  'Contact': ' +912266000666',\n",
       "  'Firsr Reviewer Name': \"Omkar's Food Diaries\"},\n",
       " {'link': 'https://www.zomato.com/pune/mcdonalds-magarpatta',\n",
       "  'page title': \"McDonald's, Seasons Mall, Magarpatta, Pune - Zomato\",\n",
       "  'Name': \"McDonald's\",\n",
       "  'Restaurant rating': '3.8/5',\n",
       "  'rest_address': 'Seasons Mall, Magarpatta City, Magarpatta, Pune',\n",
       "  'Contact': ' +912266000666',\n",
       "  'Firsr Reviewer Name': 'Girish Agrawal'},\n",
       " {'link': 'https://www.zomato.com/pune/mcdonalds-shivaji-nagar',\n",
       "  'page title': \"McDonald's, Shivaji Nagar, Pune - Zomato\",\n",
       "  'Name': \"McDonald's\",\n",
       "  'Restaurant rating': '3.6/5',\n",
       "  'rest_address': 'Unit 201, Kakade Center Port, CTS 2687B, Bhamburda, Shivaji Nagar, Pune',\n",
       "  'Contact': ' +912266000666',\n",
       "  'Firsr Reviewer Name': 'Varun J'},\n",
       " {'link': 'https://www.zomato.com/pune/mcdonalds-viman-nagar',\n",
       "  'page title': \"McDonald's, Viman Nagar, Pune - Zomato\",\n",
       "  'Name': \"McDonald's\",\n",
       "  'Restaurant rating': '3.8/5',\n",
       "  'rest_address': 'G 7, Phoenix Market City, Nagar Road, Viman Nagar, Pune',\n",
       "  'Contact': ' +912066000666',\n",
       "  'Firsr Reviewer Name': 'Abhilasha Adhikary'},\n",
       " {'link': 'https://www.zomato.com/pune/mcdonalds-dhankawadi',\n",
       "  'page title': \"McDonald's, Dhankawadi, Pune - Zomato\",\n",
       "  'Name': \"McDonald's\",\n",
       "  'Restaurant rating': '3.4/5',\n",
       "  'rest_address': 'Survey 32/2, Gurukrupa Hall, Ambegaon Budruk, Near Dmart, Dhankawadi, Pune',\n",
       "  'Contact': ' +912266000666',\n",
       "  'Firsr Reviewer Name': 'Shubham Mahajan'}]"
      ]
     },
     "execution_count": 20,
     "metadata": {},
     "output_type": "execute_result"
    }
   ],
   "source": [
    "'''Storing This Data to csv file \n",
    "   for storing data in csv file firstly i created dataframe then using pandas export dataframe to csv''' \n",
    "\n",
    "list_rest =[]\n",
    "for i in mylist:\n",
    "    dataframe ={}\n",
    "    headers = {'User-Agent': 'Mozilla/5.0 (Macintosh; Intel Mac OS X 10_11_6) AppleWebKit/537.36 (KHTML, like Gecko) Chrome/61.0.3163.100 Safari/537.36'}\n",
    "    response = requests.get(i,headers=headers)\n",
    "    \n",
    "    page_html=response.content\n",
    "    page_soup=soup(page_html,\"html.parser\")\n",
    "    \n",
    "    \n",
    "    dataframe[\"link\"] = i\n",
    "    \n",
    "    dataframe[\"page title\"]=page_soup.title.string\n",
    "    \n",
    "    \n",
    "    dataframe[\"Name\"]=page_soup.findAll(\"div\",{\"class\":\"res-header-overlay brbot\"})[0].a.text.strip()\n",
    "    \n",
    "    dataframe[\"Restaurant rating\"]=page_soup.findAll(\"div\",{\"class\":\"res-rating pos-relative clearfix mb5\"})[0].text.strip()\n",
    "    \n",
    "    dataframe[\"rest_address\"] = page_soup.findAll(\"div\",{\"class\":\"borderless res-main-address\"})[0].text.strip()\n",
    "    \n",
    "    dataframe[\"Contact\"]=page_soup.findAll(\"div\",{\"class\":\"phone\"})[0].text.strip().replace(\"Phone number\\n\\n\",\" \")\n",
    "    \n",
    "    dataframe[\"Firsr Reviewer Name\"]=page_soup.findAll(\"div\",{\"class\":\"header nowrap ui left\"})[0].text.strip()\n",
    "    \n",
    "    list_rest.append(dataframe)\n",
    "    \n",
    "list_rest "
   ]
  },
  {
   "cell_type": "code",
   "execution_count": 21,
   "metadata": {},
   "outputs": [
    {
     "name": "stdout",
     "output_type": "stream",
     "text": [
      "Successfully Data Added into CSV file\n"
     ]
    }
   ],
   "source": [
    "#Storing Data in CSV File\n",
    "\n",
    "import pandas\n",
    "\n",
    "df = pandas.DataFrame(list_rest)\n",
    "df.to_csv(\"MyZomato1.csv\",index=False)\n",
    "\n",
    "print(\"Successfully Data Added into CSV file\")"
   ]
  },
  {
   "cell_type": "code",
   "execution_count": 22,
   "metadata": {},
   "outputs": [
    {
     "data": {
      "text/plain": [
       "'C:\\\\Users\\\\Vaibhav\\\\Desktop\\\\indiacom\\\\csv'"
      ]
     },
     "execution_count": 22,
     "metadata": {},
     "output_type": "execute_result"
    }
   ],
   "source": [
    "#Check location of stored File\n",
    "import os\n",
    "os.getcwd()\n",
    "\n"
   ]
  },
  {
   "cell_type": "code",
   "execution_count": 23,
   "metadata": {},
   "outputs": [
    {
     "name": "stdout",
     "output_type": "stream",
     "text": [
      "['Contact', 'Firsr Reviewer Name', 'Name', 'Restaurant rating', 'link', 'page title', 'rest_address']\n",
      "[' +912266000666', 'Yogita Rane - Lifestyle Blogger', \"McDonald's\", '2.9/5', 'https://www.zomato.com/pune/mcdonalds-camp-area', \"McDonald's, Moledina road, Camp, Pune - Zomato\", '34, SGS Magnum Mall, Moledina Road, Camp Area, Pune']\n",
      "[' +912266000666', 'Vaibhav Gilbile', \"McDonald's\", '3.8/5', 'https://www.zomato.com/pune/mcdonalds-baner', \"McDonald's, Baner, Pune - Zomato\", 'Shop 22, Balewadi High Street, Cummins India Office Complex, Baner, Pune']\n",
      "[' +912266000666', 'Subita Landge', \"McDonald's\", '4.0/5', 'https://www.zomato.com/pune/mcdonalds-1-kalyani-nagar', \"McDonald's, Mariplex Mall, Kalyani Nagar, Pune - Zomato\", 'Ground Floor, Mariplex Mall, Kalyani Nagar, Pune']\n",
      "[' +912266000666', 'Priyanka Jain', \"McDonald's\", '3.5/5', 'https://www.zomato.com/pune/mcdonalds-chinchwad', \"McDonald's, Chinchwad, Pune - Zomato\", 'Premier Plaza, Old Mumbai Pune Highway, Chinchwad, Pune']\n",
      "[' +912266000666', 'Archi Choudhary', \"McDonald's\", '2.8/5', 'https://www.zomato.com/pune/mcdonalds-hinjawadi', \"McDonald's, Hinjawadi, Pune - Zomato\", 'HPCL, KPIT Cummins, Near Krishna Petrol Pump, Phase 2 Road, Hinjawadi, Pune']\n",
      "[' +912266000666', 'Foodie Hunk', \"McDonald's\", '3.6/5', 'https://www.zomato.com/pune/mcdonalds-satara-road', \"McDonald's, Satara Road, Pune - Zomato\", 'Near City Pride Multiplex,  692 A2A Saluja Chambers, Satara Road, Pune']\n",
      "[' +912266000666', 'Sharanye Koushik', \"McDonald's\", '3.6/5', 'https://www.zomato.com/pune/mcdonalds-pimple-saudagar', \"McDonald's, Pimple Saudagar, Pune - Zomato\", 'Rainbow Plaza, Near Shivar Garden, Pimple Saudagar, Pune']\n",
      "[' +912266000666', 'Neha Nemade', \"McDonald's\", '2.9/5', 'https://www.zomato.com/pune/mcdonalds-aundh', \"McDonald's, Aundh, Pune - Zomato\", '8 -14 Stellar Enclave, DP Road, Aundh, Pune']\n",
      "[' +912066000666', 'Chaitali Wayakule', \"Mcdonald's\", '3.8/5', 'https://www.zomato.com/pune/mcdonalds-1-hadapsar', \"Mcdonald's, Hadapsar, Pune - Zomato\", '1st Floor, West Black, Food Court, Amanora Town Centre, Hadapsar, Pune']\n",
      "[' +912266000666', 'Silky Rungta Agrawal', \"McDonald's\", '3.0/5', 'https://www.zomato.com/pune/mcdonalds-dange-chowk', \"McDonald's, Dange Chowk, Pune - Zomato\", 'Survey 15/4, Near Santosh Nagar, Thergaon, Dange Chowk, Pune']\n",
      "[' +912266000666', \"Omkar's Food Diaries\", \"McDonald's\", '3.4/5', 'https://www.zomato.com/pune/mcdonalds-jm-road', \"McDonald's, JM Road, Pune - Zomato\", 'Ground Floor, Suyog Plaza, JM Road, Pune']\n",
      "[' +912266000666', 'Girish Agrawal', \"McDonald's\", '3.8/5', 'https://www.zomato.com/pune/mcdonalds-magarpatta', \"McDonald's, Seasons Mall, Magarpatta, Pune - Zomato\", 'Seasons Mall, Magarpatta City, Magarpatta, Pune']\n",
      "[' +912266000666', 'Varun J', \"McDonald's\", '3.6/5', 'https://www.zomato.com/pune/mcdonalds-shivaji-nagar', \"McDonald's, Shivaji Nagar, Pune - Zomato\", 'Unit 201, Kakade Center Port, CTS 2687B, Bhamburda, Shivaji Nagar, Pune']\n",
      "[' +912066000666', 'Abhilasha Adhikary', \"McDonald's\", '3.8/5', 'https://www.zomato.com/pune/mcdonalds-viman-nagar', \"McDonald's, Viman Nagar, Pune - Zomato\", 'G 7, Phoenix Market City, Nagar Road, Viman Nagar, Pune']\n",
      "[' +912266000666', 'Shubham Mahajan', \"McDonald's\", '3.4/5', 'https://www.zomato.com/pune/mcdonalds-dhankawadi', \"McDonald's, Dhankawadi, Pune - Zomato\", 'Survey 32/2, Gurukrupa Hall, Ambegaon Budruk, Near Dmart, Dhankawadi, Pune']\n"
     ]
    }
   ],
   "source": [
    "#opening MyZomato1.csv file in Read Mode\n",
    "\n",
    "import csv\n",
    "\n",
    "with open('MyZomato1.csv', 'r') as csvFile:\n",
    "    reader = csv.reader(csvFile)\n",
    "    for row in reader:\n",
    "        print(row)\n",
    "\n"
   ]
  },
  {
   "cell_type": "code",
   "execution_count": null,
   "metadata": {},
   "outputs": [],
   "source": []
  }
 ],
 "metadata": {
  "kernelspec": {
   "display_name": "Python 3",
   "language": "python",
   "name": "python3"
  },
  "language_info": {
   "codemirror_mode": {
    "name": "ipython",
    "version": 3
   },
   "file_extension": ".py",
   "mimetype": "text/x-python",
   "name": "python",
   "nbconvert_exporter": "python",
   "pygments_lexer": "ipython3",
   "version": "3.6.5"
  }
 },
 "nbformat": 4,
 "nbformat_minor": 2
}
